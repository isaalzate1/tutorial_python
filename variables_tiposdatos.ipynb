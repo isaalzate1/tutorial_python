{
 "cells": [
  {
   "cell_type": "markdown",
   "metadata": {},
   "source": [
    "# VARIABLES Y TIPOS DE DATOS"
   ]
  },
  {
   "cell_type": "markdown",
   "metadata": {},
   "source": [
    "## Variables"
   ]
  },
  {
   "cell_type": "code",
   "execution_count": 1,
   "metadata": {},
   "outputs": [],
   "source": [
    "# En Python, una variable se utiliza para almacenar datos que pueden ser utilizados y manipulados posteriormente.\n",
    "# Buenas prácticas: Usar nombres descriptivos y seguir la convención de nombres en minúsculas y separados por guiones bajos, evitar usar números al comienzo.\n",
    "\n",
    "nombre = \"Isabella\"\n",
    "edad = 20"
   ]
  },
  {
   "cell_type": "code",
   "execution_count": 4,
   "metadata": {},
   "outputs": [
    {
     "data": {
      "text/plain": [
       "'mi nombre es Isabella y tengo 20 años'"
      ]
     },
     "execution_count": 4,
     "metadata": {},
     "output_type": "execute_result"
    }
   ],
   "source": [
    "# f-strings permiten incrustar expresiones dentro de cadenas de texto de forma fácil y legible.\n",
    "# Se definen con una 'f' antes de las comillas, y las variables o expresiones se colocan entre llaves `{}`.\n",
    "\n",
    "f\"mi nombre es {nombre} y tengo {edad} años\""
   ]
  },
  {
   "cell_type": "code",
   "execution_count": 91,
   "metadata": {},
   "outputs": [
    {
     "name": "stdout",
     "output_type": "stream",
     "text": [
      "1\n",
      "2\n",
      "3\n"
     ]
    }
   ],
   "source": [
    "# Asignación de Variables\n",
    "# Python permite asignar múltiples variables en una sola línea.\n",
    "a, b, c = 1, 2, 3\n",
    "print(a)\n",
    "print(b)\n",
    "print(c)"
   ]
  },
  {
   "cell_type": "markdown",
   "metadata": {},
   "source": [
    "## Tipos de datos\n",
    "\n",
    "Python soporta varios tipos de datos, incluyendo enteros, flotantes(decimales), cadenas y booleanos.\n"
   ]
  },
  {
   "cell_type": "code",
   "execution_count": 11,
   "metadata": {},
   "outputs": [
    {
     "name": "stdout",
     "output_type": "stream",
     "text": [
      "10\n"
     ]
    }
   ],
   "source": [
    "# Entero: Todos los números enteros. Son tipo int\n",
    "entero = 10\n",
    "type(entero)\n",
    "print(entero)"
   ]
  },
  {
   "cell_type": "code",
   "execution_count": 13,
   "metadata": {},
   "outputs": [
    {
     "name": "stdout",
     "output_type": "stream",
     "text": [
      "25.8\n"
     ]
    }
   ],
   "source": [
    "# Flotante: Números con decimales. Son tipo float\n",
    "flotante = 25.8\n",
    "type(flotante)\n",
    "print(flotante)"
   ]
  },
  {
   "cell_type": "code",
   "execution_count": 16,
   "metadata": {},
   "outputs": [
    {
     "name": "stdout",
     "output_type": "stream",
     "text": [
      "Hola a todos\n"
     ]
    }
   ],
   "source": [
    "# Strings o cadenas: Son datos que contienen texto. Son tipo str\n",
    "cadena = \"Hola a todos\"\n",
    "type(cadena)\n",
    "print(cadena)"
   ]
  },
  {
   "cell_type": "code",
   "execution_count": 28,
   "metadata": {},
   "outputs": [
    {
     "data": {
      "text/plain": [
       "False"
      ]
     },
     "execution_count": 28,
     "metadata": {},
     "output_type": "execute_result"
    }
   ],
   "source": [
    "# Booleano: Es el resultado de operaciones lógicas. Son tipo bool\n",
    "booleano_1 = True\n",
    "booleano_2 = False\n",
    "type(booleano_1)\n",
    "7 > 10\n"
   ]
  },
  {
   "cell_type": "markdown",
   "metadata": {},
   "source": [
    "### Operaciones básicas con tipos de datos\n",
    "Enteros y Flotantes soportan operaciones matemáticas básicas."
   ]
  },
  {
   "cell_type": "code",
   "execution_count": 31,
   "metadata": {},
   "outputs": [
    {
     "name": "stdout",
     "output_type": "stream",
     "text": [
      "14.8462\n",
      "-7.61\n",
      "3 1340\n",
      "20.41820418204182\n",
      "110075314176\n"
     ]
    }
   ],
   "source": [
    "# Suma(+), Resta(-), Multiplicación(*), División(/)\n",
    "print(5 + 9.8462)\n",
    "print(-8 - -0.39)\n",
    "print(3,67 * 20)\n",
    "print(83 / 4.065)\n"
   ]
  },
  {
   "cell_type": "code",
   "execution_count": 33,
   "metadata": {},
   "outputs": [
    {
     "name": "stdout",
     "output_type": "stream",
     "text": [
      "110075314176\n",
      "100.0\n",
      "45.0\n"
     ]
    }
   ],
   "source": [
    "#Para potenciación se usa **\n",
    "print(24**8)\n",
    "\n",
    "#Para sacar raíz cuadrada hay que cargar una libreria\n",
    "import math\n",
    "print(math.sqrt(10000))\n",
    "\n",
    "#Para las demas raices se expresarán en forma de potencia\n",
    "print(225**1/5)"
   ]
  },
  {
   "cell_type": "code",
   "execution_count": 41,
   "metadata": {},
   "outputs": [
    {
     "name": "stdout",
     "output_type": "stream",
     "text": [
      "45.67\n"
     ]
    },
    {
     "data": {
      "text/plain": [
       "str"
      ]
     },
     "execution_count": 41,
     "metadata": {},
     "output_type": "execute_result"
    }
   ],
   "source": [
    "# Conversión de Tipos de Datos\n",
    "# Es posible convertir entre diferentes tipos de datos utilizando funciones como int(), float(), str() y bool().\n",
    "numero_flotante = 45.67\n",
    "flotante_cadena = str(numero_flotante)\n",
    "print(flotante_cadena)\n",
    "type(numero_flotante)\n",
    "type(flotante_cadena)\n"
   ]
  },
  {
   "cell_type": "code",
   "execution_count": 26,
   "metadata": {},
   "outputs": [
    {
     "name": "stdout",
     "output_type": "stream",
     "text": [
      "Hola a todos\n",
      "AdiosAdiosAdios\n"
     ]
    }
   ],
   "source": [
    "# Cadenas permiten unión y repetición.\n",
    "saludo = \"Hola\" + \" \" + \"a\" + \" \" + \"todos\"\n",
    "despedirse = \"Adios\" * 3\n",
    "print(saludo)\n",
    "print(despedirse)"
   ]
  },
  {
   "cell_type": "markdown",
   "metadata": {},
   "source": [
    "### Operaciones lógicas\n",
    "Las operaciones lógicas se utilizan para combinar múltiples condiciones.\n",
    "\n",
    "Operadores lógicos: and, or, not."
   ]
  },
  {
   "cell_type": "code",
   "execution_count": 43,
   "metadata": {},
   "outputs": [
    {
     "name": "stdout",
     "output_type": "stream",
     "text": [
      "False\n"
     ]
    }
   ],
   "source": [
    "# AND: Devuelve True si ambas condiciones son verdaderas.\n",
    "promedio = 4.0\n",
    "semestre = 5\n",
    "buscar_practica = (promedio >= 4.0) & (semestre > 5) # se puede usar: and o &\n",
    "print(buscar_practica)"
   ]
  },
  {
   "cell_type": "code",
   "execution_count": 44,
   "metadata": {},
   "outputs": [
    {
     "name": "stdout",
     "output_type": "stream",
     "text": [
      "True\n"
     ]
    }
   ],
   "source": [
    "# OR: Devuelve True si al menos una de las condiciones es verdadera.\n",
    "promedio = 4.0\n",
    "estrato = 3\n",
    "ofrecer_beca = (promedio >= 4.5) | (estrato <= 3) # se puede usar: |, or\n",
    "print(ofrecer_beca)"
   ]
  },
  {
   "cell_type": "code",
   "execution_count": 45,
   "metadata": {},
   "outputs": [
    {
     "name": "stdout",
     "output_type": "stream",
     "text": [
      "False\n"
     ]
    }
   ],
   "source": [
    "# NOT: Invierte el valor lógico de la condición.\n",
    "verdadero = True\n",
    "falso = False\n",
    "print(not verdadero) "
   ]
  },
  {
   "cell_type": "code",
   "execution_count": 47,
   "metadata": {},
   "outputs": [
    {
     "name": "stdout",
     "output_type": "stream",
     "text": [
      "True\n",
      "True\n",
      "True\n",
      "True\n"
     ]
    }
   ],
   "source": [
    "#verificar si un dato es de un tipo dado\n",
    "print(isinstance(booleano_1, bool))\n",
    "print(isinstance(flotante, float))\n",
    "print(isinstance(estrato, int))\n",
    "print(isinstance(\"texto\", str))"
   ]
  },
  {
   "cell_type": "code",
   "execution_count": 50,
   "metadata": {},
   "outputs": [
    {
     "name": "stdout",
     "output_type": "stream",
     "text": [
      "True\n",
      "True\n",
      "False\n",
      "True\n",
      "True\n",
      "True\n",
      "True\n",
      "True\n"
     ]
    }
   ],
   "source": [
    "# Comparaciones: Operadores de comparación\n",
    "# >, >=, <, <=, ==, !=\n",
    "\n",
    "print(8 > 3)\n",
    "# 8 es mayor que 3\n",
    "\n",
    "print(6 >= 6)\n",
    "# 6 es mayor o igual a 6\n",
    "\n",
    "print(100 < -100)\n",
    "# 100 no es menor a -100\n",
    "\n",
    "print(4 <= 13)\n",
    "# 4 es menor o igual a 13\n",
    "\n",
    "print(True == True)\n",
    "# True es igual a true \n",
    "\n",
    "print(\"azul\" != \"rojo\")\n",
    "# Azul es diferente de rojo\n",
    "\n",
    "# Comparaciones encadenadas \n",
    "print(1 < 2 < 3)  \n",
    "print(1 == 1 < 2)"
   ]
  },
  {
   "cell_type": "code",
   "execution_count": 51,
   "metadata": {},
   "outputs": [
    {
     "name": "stdout",
     "output_type": "stream",
     "text": [
      "False\n"
     ]
    }
   ],
   "source": [
    "# Ejemplo con and \n",
    "promedio = 4.0\n",
    "semestre = 5\n",
    "buscar_practica = (promedio >= 4.0) & (semestre > 5) # se puede usar: and o &\n",
    "print(buscar_practica)"
   ]
  },
  {
   "cell_type": "code",
   "execution_count": 52,
   "metadata": {},
   "outputs": [
    {
     "name": "stdout",
     "output_type": "stream",
     "text": [
      "True\n"
     ]
    }
   ],
   "source": [
    "# Ejemplo con or\n",
    "promedio = 4.0\n",
    "estrato = 3\n",
    "ofrecer_beca = (promedio >= 4.5) | (estrato <= 3) # se puede usar: |, or\n",
    "print(ofrecer_beca)"
   ]
  },
  {
   "cell_type": "markdown",
   "metadata": {},
   "source": [
    "### Tipos de datos compuestos\n"
   ]
  },
  {
   "cell_type": "markdown",
   "metadata": {},
   "source": [
    "#### Tuplas"
   ]
  },
  {
   "cell_type": "code",
   "execution_count": 60,
   "metadata": {},
   "outputs": [
    {
     "name": "stdout",
     "output_type": "stream",
     "text": [
      "(23, 'Hola', True)\n",
      "Elemento en el índice 0: 23\n"
     ]
    }
   ],
   "source": [
    "# TUPLAS: no puedes cambiar sus elementos una vez que se han definido. \n",
    "tupla_1 = (23, \"Hola\", True)\n",
    "print(tupla_1)\n",
    "\n",
    "# Puedes acceder a los elementos mediante índices, pero no puedes agregar ni eliminar elementos.\n",
    "print(\"Elemento en el índice 0:\", tupla_1[0])\n",
    "\n",
    "# Intentar modificar una tupla resultará en un error\n"
   ]
  },
  {
   "cell_type": "markdown",
   "metadata": {},
   "source": [
    "#### Listas"
   ]
  },
  {
   "cell_type": "code",
   "execution_count": 75,
   "metadata": {},
   "outputs": [
    {
     "name": "stdout",
     "output_type": "stream",
     "text": [
      "[1, 2, 3, 4]\n",
      "Lista después de agregar un elemento: [1, 2, 3, 4, 5]\n",
      "Lista después de insertar un elemento en la posición 2: [1, 2, 10, 3, 4, 5]\n",
      "Lista después de eliminar el elemento 10: [1, 2, 3, 4, 5]\n",
      "Elemento en el índice 1: 2\n",
      "3\n"
     ]
    }
   ],
   "source": [
    "# Listas: Puedes modificar sus elementos después de la creación. Puedes agregar, eliminar y acceder a elementos\n",
    "lista = [1, 2, 3, 4]\n",
    "print(lista)\n",
    "\n",
    "#Agregar elemento\n",
    "lista.append(5)\n",
    "print(\"Lista después de agregar un elemento:\", lista)\n",
    "\n",
    "#Insertar elemento en una posición dada\n",
    "lista.insert(2, 10)\n",
    "print(\"Lista después de insertar un elemento en la posición 2:\", lista)\n",
    "\n",
    "#Elimnar elemento\n",
    "lista.remove(10)\n",
    "print(\"Lista después de eliminar el elemento 10:\", lista)\n",
    "\n",
    "#Especificar que elemento quiero ver\n",
    "print(\"Elemento en el índice 1:\", lista[1])\n",
    "\n",
    "# índices negativos\n",
    "# -1: último\n",
    "# -2: penúltimo\n",
    "print(lista[-3])\n"
   ]
  },
  {
   "cell_type": "markdown",
   "metadata": {},
   "source": [
    "#### Diccionario"
   ]
  },
  {
   "cell_type": "code",
   "execution_count": 71,
   "metadata": {},
   "outputs": [
    {
     "name": "stdout",
     "output_type": "stream",
     "text": [
      "{'Estudiante_1': 'Isabella', 'Edad_1': '20', 'Estudiante_2': 'Santiago', 'Edad_2': '21'}\n",
      "{'Estudiante_1': 'Isabella', 'Edad_1': '20', 'Estudiante_2': 'Santiago', 'Edad_2': '21', 'Estudiante_3': 'Sofia'}\n",
      "{'Estudiante_1': 'Isabella', 'Edad_1': '20', 'Estudiante_2': 'Santiago', 'Edad_2': '21'}\n",
      "Edad asociada a 'Estudiante_2': 21\n"
     ]
    },
    {
     "data": {
      "text/plain": [
       "dict_items([('Estudiante_1', 'Isabella'), ('Edad_1', '20'), ('Estudiante_2', 'Santiago'), ('Edad_2', '21')])"
      ]
     },
     "execution_count": 71,
     "metadata": {},
     "output_type": "execute_result"
    }
   ],
   "source": [
    "# Diccionarios: Son colecciones de pares clave-valor. \n",
    "estudiantes_edad = {\"Estudiante_1\": \"Isabella\", \"Edad_1\": \"20\", \"Estudiante_2\": \"Santiago\", \"Edad_2\": \"21\"}\n",
    "print(estudiantes_edad)\n",
    "\n",
    "#Agregar un nuevo par clave-valor\n",
    "estudiantes_edad[\"Estudiante_3\"] = \"Sofia\"\n",
    "print(estudiantes_edad)\n",
    "\n",
    "# Eliminar un par clave-valor\n",
    "del estudiantes_edad[\"Estudiante_3\"]\n",
    "print(estudiantes_edad)\n",
    "\n",
    "# Acceder al valor de una clave\n",
    "print(\"Edad asociada a 'Estudiante_2':\", estudiantes_edad[\"Edad_2\"])\n",
    "\n",
    "estudiantes_edad.items()\n"
   ]
  },
  {
   "cell_type": "markdown",
   "metadata": {},
   "source": [
    "#### Conjuntos"
   ]
  },
  {
   "cell_type": "code",
   "execution_count": 73,
   "metadata": {},
   "outputs": [
    {
     "name": "stdout",
     "output_type": "stream",
     "text": [
      "\n",
      "Conjunto original: {1, 2, 3, 4}\n",
      "Conjunto después de agregar el elemento 5: {1, 2, 3, 4, 5}\n",
      "Conjunto después de eliminar el elemento 3: {1, 2, 4, 5}\n",
      "¿El conjunto contiene el elemento 4?: True\n",
      "Otro conjunto: {4, 5, 6, 7}\n",
      "Unión de conjuntos: {1, 2, 4, 5, 6, 7}\n",
      "Intersección de conjuntos: {4, 5}\n",
      "Diferencia de conjuntos: {1, 2}\n"
     ]
    }
   ],
   "source": [
    "# Conjuntos: Son colecciones no ordenadas de elementos únicos.\n",
    "conjunto = {1, 2, 3, 4}\n",
    "print(\"\\nConjunto original:\", conjunto)\n",
    "\n",
    "# Agregar un elemento\n",
    "conjunto.add(5)\n",
    "print(\"Conjunto después de agregar el elemento 5:\", conjunto)\n",
    "\n",
    "# Eliminar un elemento\n",
    "conjunto.discard(3)  # Usa discard para evitar error si el elemento no está presente\n",
    "print(\"Conjunto después de eliminar el elemento 3:\", conjunto)\n",
    "\n",
    "# Verificar si un elemento está en el conjunto\n",
    "print(\"¿El conjunto contiene el elemento 4?:\", 4 in conjunto)\n",
    "\n",
    "# Operaciones entre conjuntos\n",
    "otro_conjunto = {4, 5, 6, 7}\n",
    "print(\"Otro conjunto:\", otro_conjunto)\n"
   ]
  },
  {
   "cell_type": "markdown",
   "metadata": {},
   "source": [
    "### LOOPS\n",
    "Los loops permiten repetir un bloque de código múltiples veces."
   ]
  },
  {
   "cell_type": "markdown",
   "metadata": {},
   "source": [
    "#### FOR LOOPS"
   ]
  },
  {
   "cell_type": "code",
   "execution_count": 90,
   "metadata": {},
   "outputs": [
    {
     "name": "stdout",
     "output_type": "stream",
     "text": [
      "Iteración 4\n",
      "Iteración 9\n",
      "Iteración 1\n",
      "Iteración 0\n",
      "Iteración 1\n",
      "Iteración 2\n",
      "Iteración 3\n",
      "Iteración 4\n",
      "Iteración 5\n",
      "Iteración 6\n",
      "Iteración 7\n",
      "Iteración 8\n",
      "Iteración 9\n",
      "Iteración 10\n",
      "Iteración 2\n",
      "Iteración 4\n",
      "Iteración 6\n",
      "Iteración 8\n",
      "Iteración 10\n",
      "Hola Isabella!\n",
      "Hola Sofia!\n",
      "Hola Santiago!\n"
     ]
    }
   ],
   "source": [
    "# For loop: se utiliza para iterar sobre una secuencia (como una lista, tupla, diccionario, conjunto o cadena).\n",
    "\n",
    "# i=variable de iteración especificada\n",
    "for i in [4, 9, 1]: \n",
    "    print(f\"Iteración {i}\")\n",
    "\n",
    "# se hacen iteraciones impares!\n",
    "for i in range(0, 11): \n",
    "    print(f\"Iteración {i}\")\n",
    "    \n",
    "# se hacen iteraciones pares\n",
    "for i in range(2, 11, 2): \n",
    "    print(f\"Iteración {i}\")\n",
    "    \n",
    "# {variable} = placeholder\n",
    "for nombre in [\"Isabella\", \"Sofia\", \"Santiago\"]:\n",
    "    print(f\"Hola {nombre}!\")\n",
    "    \n",
    "    "
   ]
  },
  {
   "cell_type": "markdown",
   "metadata": {},
   "source": [
    "#### List comprenhesion"
   ]
  },
  {
   "cell_type": "code",
   "execution_count": 1,
   "metadata": {},
   "outputs": [
    {
     "name": "stdout",
     "output_type": "stream",
     "text": [
      "[1, 4, 9, 16, 25]\n",
      "[1, 4, 9, 16, 25]\n"
     ]
    },
    {
     "data": {
      "text/plain": [
       "['aprueba', 'aprueba']"
      ]
     },
     "execution_count": 1,
     "metadata": {},
     "output_type": "execute_result"
    }
   ],
   "source": [
    "# List comprenhesion: permite crear listas de manera más compacta y legible. \n",
    "\n",
    "# Sin comprensión de listas\n",
    "squares = []\n",
    "for i in range(1, 6):\n",
    "    squares.append(i * i)\n",
    "print(squares)  \n",
    "\n",
    "# Con comprensión de listas\n",
    "squares = [i * i for i in range(1, 6)]\n",
    "print(squares)\n",
    "\n",
    "# Ejemplo\n",
    "notas = [4.3, 2.9, 2, 5]\n",
    "[\"aprueba\" for nota in notas if nota >= 3]"
   ]
  },
  {
   "cell_type": "markdown",
   "metadata": {},
   "source": [
    "### Estructuras de control"
   ]
  },
  {
   "cell_type": "code",
   "execution_count": null,
   "metadata": {},
   "outputs": [],
   "source": [
    "# Las estructuras de control permiten modificar el flujo de ejecución de un programa.\n",
    "# If, else, elif\n",
    "edad = 14\n",
    "if edad >= 18:\n",
    "    print(\"Eres mayor de edad.\")  \n",
    "else:\n",
    "    print(\"Eres menor de edad.\")\n",
    "\n",
    "# elif permite múltiples condiciones.\n",
    "nota = 85\n",
    "if nota >= 90:\n",
    "    print(\"Excelente\")\n",
    "elif nota >= 80:\n",
    "    print(\"Muy bien\")  \n",
    "elif nota >= 70:\n",
    "    print(\"Bien\")\n",
    "else:\n",
    "    print(\"Necesitas mejorar\")"
   ]
  }
 ],
 "metadata": {
  "kernelspec": {
   "display_name": "ciencia_datos",
   "language": "python",
   "name": "python3"
  },
  "language_info": {
   "codemirror_mode": {
    "name": "ipython",
    "version": 3
   },
   "file_extension": ".py",
   "mimetype": "text/x-python",
   "name": "python",
   "nbconvert_exporter": "python",
   "pygments_lexer": "ipython3",
   "version": "3.12.4"
  }
 },
 "nbformat": 4,
 "nbformat_minor": 2
}
