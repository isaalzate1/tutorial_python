{
 "cells": [
  {
   "cell_type": "markdown",
   "metadata": {},
   "source": [
    "### Iterar sobre estructuras de almacenamiento"
   ]
  },
  {
   "cell_type": "code",
   "execution_count": 2,
   "metadata": {},
   "outputs": [
    {
     "name": "stdout",
     "output_type": "stream",
     "text": [
      "manzana\n",
      "banana\n",
      "cereza\n",
      "[1, 4, 9, 16, 25]\n",
      "{2: 4, 4: 16}\n"
     ]
    }
   ],
   "source": [
    "# Es posible iterar sobre listas, tuplas, conjuntos y diccionarios.\n",
    "frutas = [\"manzana\", \"banana\", \"cereza\"]\n",
    "for fruta in frutas:\n",
    "    print(fruta)\n",
    "    \n",
    "# La comprensión de listas permite crear listas de manera concisa.\n",
    "numeros = [1, 2, 3, 4, 5]\n",
    "cuadrados = [n**2 for n in numeros]\n",
    "print(cuadrados)\n",
    "\n",
    "# Similar a la comprensión de listas, pero para crear diccionarios.\n",
    "numeros_pares = {n: n**2 for n in numeros if n % 2 == 0}\n",
    "print(numeros_pares) "
   ]
  },
  {
   "cell_type": "code",
   "execution_count": 4,
   "metadata": {},
   "outputs": [
    {
     "name": "stdout",
     "output_type": "stream",
     "text": [
      "['manzana', 'pera', 'pera', 'banana', 'durazno']\n",
      "['manzana', 'pera', 'pera', 'banana', 'durazno', 'durazno', 'uva']\n",
      "[1, 2, 5, 5, 6, 9]\n",
      "[9, 6, 5, 5, 2, 1]\n",
      "[9, 6, 5, 5, 2, 1]\n",
      "2\n",
      "0\n",
      "[]\n"
     ]
    }
   ],
   "source": [
    "# pop() elimina y retorna el último elemento de la lista.\n",
    "ultima_fruta = frutas.pop()\n",
    "\n",
    "# insert() añade un elemento en una posición específica.\n",
    "frutas.insert(1, \"pera\")\n",
    "print(frutas)\n",
    "\n",
    "# extend() añade múltiples elementos al final de la lista.\n",
    "frutas.extend([\"durazno\", \"uva\"])\n",
    "print(frutas)\n",
    "\n",
    "# sort() ordena la lista en su lugar.\n",
    "numeros_desordenados = [5, 2, 9, 1, 5, 6]\n",
    "numeros_desordenados.sort()\n",
    "print(numeros_desordenados)\n",
    "\n",
    "# sorted() retorna una nueva lista ordenada.\n",
    "numeros_ordenados = sorted(numeros_desordenados, reverse=True)\n",
    "print(numeros_ordenados)\n",
    "\n",
    "# reverse() invierte el orden de la lista en su lugar.\n",
    "numeros_desordenados.reverse()\n",
    "print(numeros_desordenados) \n",
    "\n",
    "# count() cuenta el número de veces que un valor aparece en la lista.\n",
    "contar_cincos = numeros_desordenados.count(5)\n",
    "print(contar_cincos)\n",
    "\n",
    "# index() retorna el índice de la primera aparición de un valor.\n",
    "indice_nueve = numeros_desordenados.index(9)\n",
    "print(indice_nueve) \n",
    "\n",
    "# clear() elimina todos los elementos de la lista.\n",
    "numeros_desordenados.clear()\n",
    "print(numeros_desordenados) "
   ]
  },
  {
   "cell_type": "markdown",
   "metadata": {},
   "source": [
    "## Funciones\n",
    "Usamos def para definir una función en python"
   ]
  },
  {
   "cell_type": "code",
   "execution_count": 7,
   "metadata": {},
   "outputs": [
    {
     "name": "stdout",
     "output_type": "stream",
     "text": [
      "Hola, David!\n",
      "8\n",
      "Hola, Ana!\n",
      "Buenos días, Ana!\n"
     ]
    }
   ],
   "source": [
    "# Las funciones son bloques de código reutilizables que realizan una tarea específica.\n",
    "def saludar(nombre):\n",
    "    print(f\"Hola, {nombre}!\")\n",
    "saludar(\"David\") \n",
    "\n",
    "# Las funciones pueden tener parámetros y retornar valores.\n",
    "def sumar(a, b):\n",
    "    return a + b\n",
    "resultado = sumar(3, 5)\n",
    "print(resultado) \n",
    "\n",
    "# Funciones con parámetros por defecto\n",
    "def saludar(nombre, saludo=\"Hola\"):\n",
    "    print(f\"{saludo}, {nombre}!\")\n",
    "saludar(\"Ana\") \n",
    "saludar(\"Ana\", \"Buenos días\")"
   ]
  },
  {
   "cell_type": "code",
   "execution_count": 12,
   "metadata": {},
   "outputs": [
    {
     "name": "stdout",
     "output_type": "stream",
     "text": [
      "8\n",
      "14\n",
      "[2, 4, 6, 8, 10]\n"
     ]
    }
   ],
   "source": [
    "# Funciones Lambda:\n",
    "# Las funciones lambda son funciones anónimas y de una sola línea.\n",
    "doble = lambda x: x * 2\n",
    "print(doble(4))\n",
    "\n",
    "# Funciones con múltiples argumentos\n",
    "suma = lambda x, y: x + y\n",
    "print(suma(5, 9))\n",
    "\n",
    "# Uso de funciones en estructuras de almacenamiento\n",
    "numeros = [1, 2, 3, 4, 5]\n",
    "dobles = list(map(lambda x: x * 2, numeros))\n",
    "print(dobles)\n"
   ]
  },
  {
   "cell_type": "code",
   "execution_count": 13,
   "metadata": {},
   "outputs": [
    {
     "name": "stdout",
     "output_type": "stream",
     "text": [
      "7\n"
     ]
    }
   ],
   "source": [
    "# Funciones Anidadas\n",
    "# Se pueden definir funciones dentro de otras funciones.\n",
    "def exterior(x):\n",
    "    def interior(y):\n",
    "        return y * 2\n",
    "    return interior(x) + 1\n",
    "\n",
    "resultado = exterior(3)\n",
    "print(resultado)"
   ]
  },
  {
   "cell_type": "markdown",
   "metadata": {},
   "source": [
    "## Módulos e importaciones"
   ]
  },
  {
   "cell_type": "code",
   "execution_count": 15,
   "metadata": {},
   "outputs": [
    {
     "name": "stdout",
     "output_type": "stream",
     "text": [
      "4.0\n",
      "120\n"
     ]
    }
   ],
   "source": [
    "# Los módulos permiten organizar el código en múltiples archivos.\n",
    "import math\n",
    "print(math.sqrt(16))\n",
    "\n",
    "# Se pueden importar funciones específicas de un módulo.\n",
    "from math import factorial\n",
    "print(factorial(5)) "
   ]
  },
  {
   "cell_type": "markdown",
   "metadata": {},
   "source": [
    "#### Módulo propio"
   ]
  },
  {
   "cell_type": "code",
   "execution_count": 12,
   "metadata": {},
   "outputs": [],
   "source": [
    "import modulo"
   ]
  },
  {
   "cell_type": "code",
   "execution_count": 13,
   "metadata": {},
   "outputs": [
    {
     "data": {
      "text/plain": [
       "29"
      ]
     },
     "execution_count": 13,
     "metadata": {},
     "output_type": "execute_result"
    }
   ],
   "source": [
    "# Suma con módulos propios\n",
    "modulo.suma_numeros(20,20)\n",
    "\n",
    "# Resta con módulos propios\n",
    "modulo.resta_numeros(85,43)\n",
    "\n",
    "# Multiplicación con módulo propio\n",
    "modulo.producto_numeros(12,5)\n",
    "\n",
    "# Suma de tres números con módulo propio\n",
    "modulo.suma_tres_numeros(8,7,14)"
   ]
  }
 ],
 "metadata": {
  "kernelspec": {
   "display_name": "ciencia_datos",
   "language": "python",
   "name": "python3"
  },
  "language_info": {
   "codemirror_mode": {
    "name": "ipython",
    "version": 3
   },
   "file_extension": ".py",
   "mimetype": "text/x-python",
   "name": "python",
   "nbconvert_exporter": "python",
   "pygments_lexer": "ipython3",
   "version": "3.12.4"
  }
 },
 "nbformat": 4,
 "nbformat_minor": 2
}
